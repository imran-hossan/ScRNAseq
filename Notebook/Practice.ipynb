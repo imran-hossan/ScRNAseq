{
 "cells": [
  {
   "cell_type": "markdown",
   "id": "0",
   "metadata": {},
   "source": [
    "# Setup the environment"
   ]
  },
  {
   "cell_type": "code",
   "execution_count": null,
   "id": "1",
   "metadata": {},
   "outputs": [],
   "source": [
    "import scanpy as sc\n",
    "import pandas as pd\n",
    "import numpy as np\n",
    "import seaborn as sb\n",
    "from scipy.stats import median_abs_deviation\n",
    "import scipy.sparse as sp\n",
    "import matplotlib.pyplot as plt\n",
    "import anndata\n",
    "import scvi\n",
    "import celltypist\n",
    "from celltypist import models\n",
    "import scrublet as scb\n",
    "import palantir"
   ]
  },
  {
   "cell_type": "markdown",
   "id": "2",
   "metadata": {},
   "source": [
    "# Load the data"
   ]
  },
  {
   "cell_type": "code",
   "execution_count": null,
   "id": "3",
   "metadata": {},
   "outputs": [],
   "source": [
    "data_path = 'D:/Python/Data/GSE208653_RAW/' # Set the folder location"
   ]
  },
  {
   "cell_type": "code",
   "execution_count": null,
   "id": "4",
   "metadata": {},
   "outputs": [],
   "source": [
    "adata=sc.read_mtx(data_path + 'GSM6360680_N_HPV_NEG_1.matrix.mtx.gz') # Main data\n",
    "adata_barcodes=pd.read_csv(data_path + 'GSM6360680_N_HPV_NEG_1.barcodes.tsv.gz', header=None) # Loads unique identifiers for each cell\n",
    "adata_features=pd.read_csv(data_path + 'GSM6360680_N_HPV_NEG_1.features.tsv.gz', header=None, sep='\\t') # Loads gene names and information\n",
    "adata=adata.T # Transpose the matrix (Flips the data orientation)\n",
    "\n",
    "# Assign metadata to AnnData object\n",
    "adata.var_names = adata_features.iloc[:, 1].values  # Assigns gene names to columns (var = variables/genes)\n",
    "adata.obs_names = adata_barcodes.iloc[:, 0].values  # Assigns cell barcodes to rows (obs = observations/cells)\n",
    "adata.var['gene_id'] = adata_features.iloc[:, 0].values  #  Stores Ensembl gene IDs (scientific gene identifiers)\n",
    "adata.var['feature_types'] = adata_features.iloc[:, 2].values  # Stores gene types (protein-coding, non-coding, etc.)\n"
   ]
  },
  {
   "cell_type": "code",
   "execution_count": null,
   "id": "5",
   "metadata": {},
   "outputs": [],
   "source": [
    "adata.var_names_make_unique() "
   ]
  },
  {
   "cell_type": "markdown",
   "id": "b6333a1f-bd78-4f7c-90a1-2fc151707d12",
   "metadata": {},
   "source": [
    "This ensures no duplicate gene names, Some genes might have identical names, this adds suffixes like \"_1\", \"_2\""
   ]
  },
  {
   "cell_type": "code",
   "execution_count": null,
   "id": "6",
   "metadata": {},
   "outputs": [],
   "source": [
    "adata.var"
   ]
  },
  {
   "cell_type": "code",
   "execution_count": null,
   "id": "7",
   "metadata": {},
   "outputs": [],
   "source": [
    "adata.obs"
   ]
  },
  {
   "cell_type": "markdown",
   "id": "6e865708-71d7-4163-a2da-589cf8a4af71",
   "metadata": {},
   "source": [
    "# QC and Filtering"
   ]
  },
  {
   "cell_type": "markdown",
   "id": "8",
   "metadata": {},
   "source": [
    "## Quality control"
   ]
  },
  {
   "cell_type": "code",
   "execution_count": null,
   "id": "9",
   "metadata": {},
   "outputs": [],
   "source": [
    "# mitochondrial genes\n",
    "adata.var[\"mt\"] = adata.var_names.str.startswith(\"MT-\")\n",
    "# ribosomal genes\n",
    "adata.var[\"ribo\"] = adata.var_names.str.startswith((\"RPS\", \"RPL\"))\n",
    "# hemoglobin genes.\n",
    "adata.var[\"hb\"] = adata.var_names.str.contains(\"^HB[^(P)]\")"
   ]
  },
  {
   "cell_type": "code",
   "execution_count": null,
   "id": "10",
   "metadata": {},
   "outputs": [],
   "source": [
    "sc.pp.calculate_qc_metrics(\n",
    "    adata, qc_vars=[\"mt\", \"ribo\", \"hb\"], inplace=True, percent_top=[20], log1p=True\n",
    ")\n",
    "adata"
   ]
  },
  {
   "cell_type": "code",
   "execution_count": null,
   "id": "ddc26d19-3826-461f-a684-d40f8395fa79",
   "metadata": {},
   "outputs": [],
   "source": [
    "# Create comprehensive QC plots\n",
    "fig, axes = plt.subplots(2, 2, figsize=(12, 10))\n",
    "\n",
    "# Total counts distribution\n",
    "sc.pl.violin(adata, 'total_counts', ax=axes[0,0])\n",
    "axes[0,0].set_title('Total Counts per Cell')\n",
    "\n",
    "# Mitochondrial gene percentage\n",
    "sc.pl.violin(adata, 'pct_counts_mt', ax=axes[0,1]) \n",
    "axes[0,1].set_title('Mitochondrial Gene %')\n",
    "\n",
    "# Genes per cell vs total counts\n",
    "sc.pl.scatter(adata, 'total_counts', 'n_genes_by_counts', \n",
    "              color='pct_counts_mt', ax=axes[1,0])\n",
    "axes[1,0].set_title('Genes vs Counts (colored by MT%)')\n",
    "\n",
    "# Gene expression distribution\n",
    "sc.pl.highest_expr_genes(adata, n_top=20, ax=axes[1,1])\n",
    "axes[1,1].set_title('Top 20 Expressed Genes')\n",
    "\n",
    "plt.tight_layout()\n",
    "plt.show()"
   ]
  },
  {
   "cell_type": "markdown",
   "id": "12",
   "metadata": {},
   "source": [
    "## Filtering"
   ]
  },
  {
   "cell_type": "code",
   "execution_count": null,
   "id": "13",
   "metadata": {},
   "outputs": [],
   "source": [
    "sc.pp.filter_cells(adata, min_genes=500)  # Remove cells with fewer than 500 genes\n",
    "sc.pp.filter_cells(adata, min_counts=2000)  # Remove cells with fewer than 2000 total RNA counts\n",
    "adata = adata[adata.obs[\"pct_counts_mt\"] < 10, :]  # Remove cells with more than 10% mitochondrial content\n",
    "sc.pp.filter_genes(adata, min_cells=10) # Filter genes expressed in fewer than 10 cells\n"
   ]
  },
  {
   "cell_type": "markdown",
   "id": "14",
   "metadata": {},
   "source": [
    "### Doublet filtering"
   ]
  },
  {
   "cell_type": "code",
   "execution_count": null,
   "id": "15",
   "metadata": {},
   "outputs": [],
   "source": [
    "# filtering/preprocessing parameters:\n",
    "min_counts = 2\n",
    "min_cells = 3\n",
    "vscore_percentile = 85\n",
    "n_pc = 50\n",
    "\n",
    "# doublet detector parameters:\n",
    "expected_doublet_rate = 0.02\n",
    "sim_doublet_ratio = 3\n",
    "n_neighbors = 15\n",
    "\n",
    "\n",
    "scrub = scb.Scrublet(\n",
    "    counts_matrix=adata.X,\n",
    "    n_neighbors=n_neighbors,\n",
    "    sim_doublet_ratio=sim_doublet_ratio,\n",
    "    expected_doublet_rate=expected_doublet_rate,\n",
    ")\n",
    "\n",
    "doublet_scores, predicted_doublets = scrub.scrub_doublets(\n",
    "    min_counts=min_counts,\n",
    "    min_cells=min_cells,\n",
    "    n_prin_comps=n_pc,\n",
    "    use_approx_neighbors=True,\n",
    "    get_doublet_neighbor_parents=False,\n",
    ")\n",
    "\n",
    "adata.obs[\"doublet_score\"] = doublet_scores\n",
    "adata.obs[\"doublet\"] = predicted_doublets"
   ]
  },
  {
   "cell_type": "markdown",
   "id": "6d97cbbd-1cd6-40fe-b7b5-6423df1d62cd",
   "metadata": {},
   "source": [
    "**Code Breakdown**\n"
   ]
  },
  {
   "cell_type": "code",
   "execution_count": null,
   "id": "16",
   "metadata": {},
   "outputs": [],
   "source": [
    "sb.histplot(adata.obs[\"doublet_score\"], kde=True, bins=50)\n",
    "plt.xlabel(\"Doublet Score\")\n",
    "plt.ylabel(\"Density\")\n",
    "plt.title(\"Histogram of Doublet Scores\")\n",
    "plt.show()\n",
    "\n",
    "\n",
    "\n",
    "sc.pl.violin(\n",
    "    adata,\n",
    "    keys=[\"doublet_score\"],  \n",
    "    jitter=0.4,  # Adds scatter points for better visualization\n",
    "    rotation=45,  # Rotates x-axis labels for readability\n",
    "    show=True\n",
    ")"
   ]
  },
  {
   "cell_type": "code",
   "execution_count": null,
   "id": "17",
   "metadata": {},
   "outputs": [],
   "source": [
    "#thr = #add threshold\n",
    "#ix_filt = adata.obs['doublet_score']<=thr\n",
    "\n",
    "#adata = adata[ix_filt].copy()\n",
    "#print('Number of cells after doublet filter: {:d}'.format(adata.n_obs))"
   ]
  },
  {
   "cell_type": "markdown",
   "id": "225c291c-fbf0-4db4-b0e9-6a52cbad4003",
   "metadata": {},
   "source": [
    "# Pre-processing"
   ]
  },
  {
   "cell_type": "markdown",
   "id": "18",
   "metadata": {},
   "source": [
    "## Normalization"
   ]
  },
  {
   "cell_type": "code",
   "execution_count": null,
   "id": "19",
   "metadata": {},
   "outputs": [],
   "source": [
    "adata.layers[\"raw_data\"] = adata.X.copy()"
   ]
  },
  {
   "cell_type": "code",
   "execution_count": null,
   "id": "20",
   "metadata": {},
   "outputs": [],
   "source": [
    "sc.pp.normalize_total(adata, inplace=True)\n",
    "sc.pp.log1p(adata)"
   ]
  },
  {
   "cell_type": "code",
   "execution_count": null,
   "id": "21",
   "metadata": {},
   "outputs": [],
   "source": [
    "#adata.write_h5ad(data_path + \"processed_data.h5ad\")"
   ]
  },
  {
   "cell_type": "markdown",
   "id": "22",
   "metadata": {},
   "source": [
    "## Highly Variable genes"
   ]
  },
  {
   "cell_type": "code",
   "execution_count": null,
   "id": "23",
   "metadata": {},
   "outputs": [],
   "source": [
    "sc.pp.highly_variable_genes(\n",
    "    adata, layer=\"raw_data\", n_top_genes=4000, flavor=\"seurat_v3\"\n",
    ")"
   ]
  },
  {
   "cell_type": "code",
   "execution_count": null,
   "id": "24",
   "metadata": {},
   "outputs": [],
   "source": [
    "adata.var[\n",
    "    [\"highly_variable\", \"highly_variable_rank\", \"means\", \"variances\", \"variances_norm\"]\n",
    "].head()\n"
   ]
  },
  {
   "cell_type": "code",
   "execution_count": null,
   "id": "25",
   "metadata": {},
   "outputs": [],
   "source": [
    "sc.pl.highly_variable_genes(adata)"
   ]
  },
  {
   "cell_type": "markdown",
   "id": "26",
   "metadata": {},
   "source": [
    "## Dimensionality reduction"
   ]
  },
  {
   "cell_type": "code",
   "execution_count": null,
   "id": "27",
   "metadata": {},
   "outputs": [],
   "source": [
    "sc.tl.pca(adata, n_comps=100, use_highly_variable=True) # run on normalized data"
   ]
  },
  {
   "cell_type": "code",
   "execution_count": null,
   "id": "28",
   "metadata": {},
   "outputs": [],
   "source": [
    "plt.plot(\n",
    "    range(len(adata.uns[\"pca\"][\"variance_ratio\"])),\n",
    "    np.cumsum(adata.uns[\"pca\"][\"variance_ratio\"]) * 100,\n",
    "    \".-\",\n",
    ")\n",
    "plt.axvline(30, color=\"r\")\n",
    "plt.xlabel(\"Principal Component\", fontsize=14)\n",
    "plt.ylabel(\"% Variance Explained\", fontsize=14)"
   ]
  },
  {
   "cell_type": "code",
   "execution_count": null,
   "id": "29",
   "metadata": {},
   "outputs": [],
   "source": [
    "adata.obsm[\"X_pca\"] = adata.obsm[\"X_pca\"][:, 0:30]"
   ]
  },
  {
   "cell_type": "code",
   "execution_count": null,
   "id": "30",
   "metadata": {},
   "outputs": [],
   "source": [
    "adata.obsm[\"X_pca\"].shape"
   ]
  },
  {
   "cell_type": "code",
   "execution_count": null,
   "id": "31",
   "metadata": {},
   "outputs": [],
   "source": [
    "sc.pl.pca_scatter(adata, color=\"total_counts\")"
   ]
  },
  {
   "cell_type": "code",
   "execution_count": null,
   "id": "32",
   "metadata": {},
   "outputs": [],
   "source": [
    "# use the loadings to identify the most influential genes onto each of the PCA.\n",
    "df_loadings = pd.DataFrame(\n",
    "    adata.varm[\"PCs\"][:, :30],\n",
    "    index=adata.var.index,\n",
    "    columns=[\"PC-\" + str(j) for j in range(30)],\n",
    ")"
   ]
  },
  {
   "cell_type": "code",
   "execution_count": null,
   "id": "33",
   "metadata": {},
   "outputs": [],
   "source": [
    "df_loadings_hvg = df_loadings.loc[adata.var_names[adata.var[\"highly_variable\"]]]\n",
    "df_loadings_hvg"
   ]
  },
  {
   "cell_type": "code",
   "execution_count": null,
   "id": "34",
   "metadata": {},
   "outputs": [],
   "source": [
    "np.abs(df_loadings_hvg).sort_values(by=\"PC-0\", ascending=False)[\"PC-0\"] # absolute value"
   ]
  },
  {
   "cell_type": "markdown",
   "id": "35",
   "metadata": {},
   "source": [
    "## Nearest neighbor graph"
   ]
  },
  {
   "cell_type": "code",
   "execution_count": null,
   "id": "36",
   "metadata": {},
   "outputs": [],
   "source": [
    "sc.pp.neighbors(\n",
    "    adata, n_neighbors=30, use_rep=\"X_pca\", metric=\"euclidean\", key_added=\"neighbors_30\"\n",
    ")"
   ]
  },
  {
   "cell_type": "code",
   "execution_count": null,
   "id": "37",
   "metadata": {},
   "outputs": [],
   "source": [
    "adata.obsp[\"neighbors_30_distances\"]"
   ]
  },
  {
   "cell_type": "code",
   "execution_count": null,
   "id": "38",
   "metadata": {},
   "outputs": [],
   "source": [
    "adata.obsp[\"neighbors_30_connectivities\"]"
   ]
  },
  {
   "cell_type": "markdown",
   "id": "39",
   "metadata": {},
   "source": [
    "## UMAP visualization"
   ]
  },
  {
   "cell_type": "code",
   "execution_count": null,
   "id": "40",
   "metadata": {},
   "outputs": [],
   "source": [
    "sc.tl.umap(adata, neighbors_key=\"neighbors_30\", min_dist=0.1)"
   ]
  },
  {
   "cell_type": "code",
   "execution_count": null,
   "id": "41",
   "metadata": {},
   "outputs": [],
   "source": [
    "adata.obsm[\"X_umap\"]"
   ]
  },
  {
   "cell_type": "code",
   "execution_count": null,
   "id": "42",
   "metadata": {},
   "outputs": [],
   "source": [
    "adata.obsm[\"X_umap\"].shape"
   ]
  },
  {
   "cell_type": "code",
   "execution_count": null,
   "id": "43",
   "metadata": {},
   "outputs": [],
   "source": [
    "#sc.pl.umap(adata)"
   ]
  },
  {
   "cell_type": "code",
   "execution_count": null,
   "id": "44",
   "metadata": {},
   "outputs": [],
   "source": [
    "sc.pl.umap(adata, color=\"total_counts\")"
   ]
  },
  {
   "cell_type": "code",
   "execution_count": null,
   "id": "45",
   "metadata": {},
   "outputs": [],
   "source": [
    "sc.tl.tsne(adata, use_rep=\"X_pca\")\n",
    "sc.pl.tsne(adata, color=\"total_counts\")"
   ]
  },
  {
   "cell_type": "markdown",
   "id": "567dd1d6-9bbe-41e0-b82d-8a85fe2e14f0",
   "metadata": {},
   "source": [
    "# Downstream analysis"
   ]
  },
  {
   "cell_type": "markdown",
   "id": "46",
   "metadata": {
    "jp-MarkdownHeadingCollapsed": true
   },
   "source": [
    "## Clustering"
   ]
  },
  {
   "cell_type": "code",
   "execution_count": null,
   "id": "47",
   "metadata": {},
   "outputs": [],
   "source": [
    "sc.tl.leiden(\n",
    "    adata,\n",
    "    resolution=0.25,\n",
    "    random_state=0,\n",
    "    neighbors_key=\"neighbors_30\",\n",
    "    key_added=\"leiden_r0.25\",\n",
    ")\n",
    "sc.tl.leiden(\n",
    "    adata,\n",
    "    resolution=0.5,\n",
    "    random_state=0,\n",
    "    neighbors_key=\"neighbors_30\",\n",
    "    key_added=\"leiden_r0.5\",\n",
    ")\n",
    "sc.tl.leiden(\n",
    "    adata,\n",
    "    resolution=1,\n",
    "    random_state=0,\n",
    "    neighbors_key=\"neighbors_30\",\n",
    "    key_added=\"leiden_r1\",\n",
    ")"
   ]
  },
  {
   "cell_type": "code",
   "execution_count": null,
   "id": "48",
   "metadata": {},
   "outputs": [],
   "source": [
    "#pd.crosstab(adata.obs[\"leiden_r0.25\"], adata.obs[\"leiden_r0.5\"], adata.obs[\"leiden_r1\"])"
   ]
  },
  {
   "cell_type": "code",
   "execution_count": null,
   "id": "49",
   "metadata": {},
   "outputs": [],
   "source": [
    "sc.pl.umap(\n",
    "    adata,\n",
    "    color=[\"leiden_r0.25\", \"leiden_r0.5\", \"leiden_r1\"],\n",
    "    legend_loc=\"on data\",\n",
    ")"
   ]
  },
  {
   "cell_type": "code",
   "execution_count": null,
   "id": "50",
   "metadata": {},
   "outputs": [],
   "source": [
    "adata"
   ]
  },
  {
   "cell_type": "code",
   "execution_count": null,
   "id": "51",
   "metadata": {},
   "outputs": [],
   "source": [
    "#Inspecting quality control metrics\n",
    "df_temp = pd.DataFrame(\n",
    "    {\n",
    "        \"leiden_0.25\": adata.obs[\"leiden_r0.25\"],\n",
    "        \"leiden_0.5\": adata.obs[\"leiden_r0.5\"],\n",
    "        \"leiden_1\": adata.obs[\"leiden_r1\"],\n",
    "        \"%-Mito\": adata.obs[\"pct_counts_mt\"],\n",
    "        \"%-Ribo\": adata.obs[\"pct_counts_ribo\"],\n",
    "        \"library_size\": adata.obs[\"log1p_total_counts\"],\n",
    "        \"n_genes_per_cell\": adata.obs[\"log1p_n_genes_by_counts\"],\n",
    "    },\n",
    "    index=adata.obs.index,\n",
    ")\n",
    "df_temp"
   ]
  },
  {
   "cell_type": "code",
   "execution_count": null,
   "id": "52",
   "metadata": {},
   "outputs": [],
   "source": []
  },
  {
   "cell_type": "code",
   "execution_count": null,
   "id": "53",
   "metadata": {},
   "outputs": [],
   "source": [
    "fig = plt.figure(figsize=(8 * 2, 6 * 3))\n",
    "ax = fig.add_subplot(3, 1, 1)\n",
    "sb.boxplot(\n",
    "    x=\"leiden_1\",\n",
    "    y=\"%-Mito\",\n",
    "    hue=\"leiden_1\",\n",
    "    data=df_temp,\n",
    "    ax=ax,\n",
    "    palette=sc.pl.palettes.zeileis_28,\n",
    ")\n",
    "ax.grid(\"on\")\n",
    "ax.legend().set_visible(False)\n",
    "\n",
    "ax = fig.add_subplot(3, 1, 2)\n",
    "sb.boxplot(\n",
    "    x=\"leiden_1\",\n",
    "    y=\"library_size\",\n",
    "    hue=\"leiden_1\",\n",
    "    data=df_temp,\n",
    "    ax=ax,\n",
    "    palette=sc.pl.palettes.zeileis_28,\n",
    ")\n",
    "ax.grid(\"on\")\n",
    "ax.legend().set_visible(False)\n",
    "\n",
    "ax = fig.add_subplot(3, 1, 3)\n",
    "sb.boxplot(\n",
    "    x=\"leiden_1\",\n",
    "    y=\"n_genes_per_cell\",\n",
    "    hue=\"leiden_1\",\n",
    "    data=df_temp,\n",
    "    ax=ax,\n",
    "    palette=sc.pl.palettes.zeileis_28,\n",
    ")\n",
    "ax.grid(\"on\")\n",
    "ax.legend(loc=\"lower left\", ncol=5)"
   ]
  },
  {
   "cell_type": "code",
   "execution_count": null,
   "id": "54",
   "metadata": {},
   "outputs": [],
   "source": [
    "fig = plt.figure(figsize=(8 * 2, 6 * 3))\n",
    "ax = fig.add_subplot(3, 1, 1)\n",
    "sb.boxplot(\n",
    "    x=\"leiden_0.5\",\n",
    "    y=\"%-Mito\",\n",
    "    hue=\"leiden_0.5\",\n",
    "    data=df_temp,\n",
    "    ax=ax,\n",
    "    palette=sc.pl.palettes.zeileis_28,\n",
    ")\n",
    "ax.grid(\"on\")\n",
    "ax.legend().set_visible(False)\n",
    "\n",
    "ax = fig.add_subplot(3, 1, 2)\n",
    "sb.boxplot(\n",
    "    x=\"leiden_0.5\",\n",
    "    y=\"library_size\",\n",
    "    hue=\"leiden_0.5\",\n",
    "    data=df_temp,\n",
    "    ax=ax,\n",
    "    palette=sc.pl.palettes.zeileis_28,\n",
    ")\n",
    "ax.grid(\"on\")\n",
    "ax.legend().set_visible(False)\n",
    "\n",
    "ax = fig.add_subplot(3, 1, 3)\n",
    "sb.boxplot(\n",
    "    x=\"leiden_0.5\",\n",
    "    y=\"n_genes_per_cell\",\n",
    "    hue=\"leiden_0.5\",\n",
    "    data=df_temp,\n",
    "    ax=ax,\n",
    "    palette=sc.pl.palettes.zeileis_28,\n",
    ")\n",
    "ax.grid(\"on\")\n",
    "ax.legend(loc=\"lower left\", ncol=5)"
   ]
  },
  {
   "cell_type": "code",
   "execution_count": null,
   "id": "55",
   "metadata": {},
   "outputs": [],
   "source": [
    "# Inspecting quality control metrics\n",
    "sc.pl.umap(\n",
    "    adata,\n",
    "    color=[\"total_counts\", \"pct_counts_mt\", \"pct_counts_ribo\", \"doublet_score\", \"doublet\"],\n",
    ")"
   ]
  },
  {
   "cell_type": "markdown",
   "id": "56",
   "metadata": {},
   "source": [
    "###clusters_interest = [\"\"]  # explore\n",
    "colors = [\"red\"]\n",
    "plt.scatter(adata.obsm[\"X_umap\"][:, 0], adata.obsm[\"X_umap\"][:, 1], s=1, color=\"gray\")\n",
    "for counter, item in enumerate(clusters_interest):\n",
    "    cells_in_cluster = adata.obs[\"leiden_r1.5\"] == item\n",
    "    plt.scatter(\n",
    "        adata.obsm[\"X_umap\"][cells_in_cluster, 0],\n",
    "        adata.obsm[\"X_umap\"][cells_in_cluster, 1],\n",
    "        s=1,\n",
    "        color=colors[counter],\n",
    "        label=\"Cluster-\" + str(item),\n",
    "    )\n",
    "\n",
    "plt.legend(markerscale=5)\n",
    "plt.axis(\"off\")"
   ]
  },
  {
   "cell_type": "code",
   "execution_count": null,
   "id": "57",
   "metadata": {},
   "outputs": [],
   "source": [
    "#adata_clean = adata[~np.isin(adata.obs[\"leiden_r1.5\"], clusters_interest), :]"
   ]
  },
  {
   "cell_type": "markdown",
   "id": "58",
   "metadata": {},
   "source": [
    "## Cluster annotation"
   ]
  },
  {
   "cell_type": "markdown",
   "id": "59",
   "metadata": {},
   "source": [
    "### Mannual annotation"
   ]
  },
  {
   "cell_type": "markdown",
   "id": "60",
   "metadata": {
    "jp-MarkdownHeadingCollapsed": true
   },
   "source": [
    "#### Marker gene predictions"
   ]
  },
  {
   "cell_type": "code",
   "execution_count": null,
   "id": "61",
   "metadata": {},
   "outputs": [],
   "source": [
    "# Calculate marker genes\n",
    "sc.tl.rank_genes_groups(\n",
    "    adata, groupby=\"leiden_r0.5\", method=\"wilcoxon\", key_added=\"dea_leiden_0.5\"\n",
    ")"
   ]
  },
  {
   "cell_type": "code",
   "execution_count": null,
   "id": "62",
   "metadata": {},
   "outputs": [],
   "source": [
    "# Plot marker genes\n",
    "sc.pl.rank_genes_groups(adata, key=\"dea_leiden_0.5\", fontsize=12)"
   ]
  },
  {
   "cell_type": "code",
   "execution_count": null,
   "id": "63",
   "metadata": {},
   "outputs": [],
   "source": [
    "df_wt = sc.get.rank_genes_groups_df(adata, group=str(0), key=\"dea_leiden_0.5\")\n",
    "df_wt"
   ]
  },
  {
   "cell_type": "code",
   "execution_count": null,
   "id": "64",
   "metadata": {},
   "outputs": [],
   "source": [
    "for cluster in np.unique(adata.obs[\"leiden_r0.5\"]):\n",
    "    df = sc.get.rank_genes_groups_df(adata, group=str(cluster), key=\"dea_leiden_0.5\")\n",
    "    df.to_csv(data_path + \"wilcoxon_cluster_\" + str(cluster) + \"_vs_rest.csv\")"
   ]
  },
  {
   "cell_type": "code",
   "execution_count": null,
   "id": "65",
   "metadata": {},
   "outputs": [],
   "source": [
    "sc.pl.rank_genes_groups_dotplot(\n",
    "    adata, groupby=\"leiden_r0.5\", standard_scale=\"var\", n_genes=5, key=\"dea_leiden_0.5\"\n",
    ")"
   ]
  },
  {
   "cell_type": "code",
   "execution_count": null,
   "id": "66",
   "metadata": {},
   "outputs": [],
   "source": [
    "sc.tl.filter_rank_genes_groups(\n",
    "    adata,\n",
    "    min_in_group_fraction=0.2,\n",
    "    max_out_group_fraction=0.2,\n",
    "    key=\"dea_leiden_0.5\",\n",
    "    key_added=\"dea_leiden_0.5_filtered\",\n",
    ")"
   ]
  },
  {
   "cell_type": "code",
   "execution_count": null,
   "id": "67",
   "metadata": {},
   "outputs": [],
   "source": [
    "sc.pl.rank_genes_groups_dotplot(\n",
    "    adata,\n",
    "    groupby=\"leiden_r0.5\",\n",
    "    standard_scale=\"var\",\n",
    "    n_genes=5,\n",
    "    key=\"dea_leiden_0.5_filtered\",\n",
    ")"
   ]
  },
  {
   "cell_type": "code",
   "execution_count": null,
   "id": "68",
   "metadata": {},
   "outputs": [],
   "source": [
    "sc.pl.umap(\n",
    "    adata,\n",
    "    color=[\"PIGR\", \"C3\", \"MUC1\", \"AGR2\",\"MUC16\", \"leiden_r0.5\"], # cluster 7\n",
    "    vmax=\"p99\",\n",
    "    legend_loc=\"on data\",\n",
    "    frameon=False,\n",
    "    cmap=\"Reds\",\n",
    ")"
   ]
  },
  {
   "cell_type": "code",
   "execution_count": null,
   "id": "69",
   "metadata": {},
   "outputs": [],
   "source": [
    "sc.pl.rank_genes_groups(adata, key=\"dea_leiden_0.5_filtered\", n_genes=10, sharey=False) # top markers for each cluster"
   ]
  },
  {
   "cell_type": "code",
   "execution_count": null,
   "id": "70",
   "metadata": {},
   "outputs": [],
   "source": [
    "# Extract top 10 genes per group\n",
    "top_genes = [adata.uns['dea_leiden_0.5']['names'][group][:10] for group in adata.uns['dea_leiden_0.5']['names'].dtype.names]\n",
    "\n",
    "# Print the gene names\n",
    "for group, genes in zip(adata.uns['dea_leiden_0.5']['names'].dtype.names, top_genes):\n",
    "    print(f\"Group: {group} → Top Genes: {', '.join(genes)}\")\n"
   ]
  },
  {
   "cell_type": "markdown",
   "id": "71",
   "metadata": {},
   "source": [
    "#### Assigning cell type"
   ]
  },
  {
   "cell_type": "code",
   "execution_count": null,
   "id": "72",
   "metadata": {},
   "outputs": [],
   "source": [
    "cl_annotation = {\n",
    "    \"0\": \"T lymphocytes\",\n",
    "    \"1\": \"Epithelial cells\",\n",
    "    \"2\": \"Cytotoxic (CD8+) T cells\",\n",
    "    \"3\": \"Macrophage/antigen presenting cells\",\n",
    "    \"4\": \"Natural killer (NK) cells\",\n",
    "    \"5\": \"Fibroblasts\",\n",
    "    \"6\": \"Epithelial cells\",\n",
    "    \"7\": \"Epithelial cells\",\n",
    "    \"8\": \"Epithelial cells\",\n",
    "    \"9\": \"Mast cells\",\n",
    "    \"10\": \"Endothelial cells\",\n",
    "    \"11\": \"Plasma cells\",\n",
    "    \"12\": \"Epithelial cells\",\n",
    "    \"13\": \"Epithelial cells\",\n",
    "    \"14\": \"Smooth muscle cells\",\n",
    "    \"15\": \"Plasma cells\",\n",
    "    \"16\": \"Dendritic cells\",\n",
    "    \"17\": \"Neutrophils\",\n",
    "    \"18\": \"Epithelial cells\"\n",
    "}\n",
    "\n",
    "adata.obs[\"manual_celltype_annotation\"] = adata.obs[\"leiden_r0.5\"].map(cl_annotation)\n"
   ]
  },
  {
   "cell_type": "code",
   "execution_count": null,
   "id": "73",
   "metadata": {},
   "outputs": [],
   "source": [
    "sc.pl.umap(\n",
    "    adata,\n",
    "    color=\"manual_celltype_annotation\",\n",
    "    legend_loc=\"right margin\", \n",
    "    cmap=\"viridis\"\n",
    ")"
   ]
  },
  {
   "cell_type": "markdown",
   "id": "74",
   "metadata": {
    "jp-MarkdownHeadingCollapsed": true
   },
   "source": [
    "##### Sub-clustering of epithelial cell clusters"
   ]
  },
  {
   "cell_type": "code",
   "execution_count": null,
   "id": "76",
   "metadata": {},
   "outputs": [],
   "source": [
    "epithelial = adata[adata.obs['manual_celltype_annotation'] ==\"Epithelial cells\"].copy()"
   ]
  },
  {
   "cell_type": "code",
   "execution_count": null,
   "id": "77",
   "metadata": {},
   "outputs": [],
   "source": [
    "sc.pp.normalize_total(epithelial)\n",
    "sc.pp.log1p(epithelial)\n",
    "sc.pp.highly_variable_genes(epithelial, n_top_genes=2000)\n",
    "epithelial=epithelial[:, epithelial.var['highly_variable']]\n",
    "sc.pp.scale(epithelial)\n",
    "sc.tl.pca(epithelial, n_comps=30)\n",
    "sc.pp.neighbors(epithelial, n_neighbors=15, n_pcs=30)\n",
    "sc.tl.pca(epithelial)"
   ]
  },
  {
   "cell_type": "code",
   "execution_count": null,
   "id": "78",
   "metadata": {},
   "outputs": [],
   "source": [
    "# Try a few resolutions to see what gives meaningful granularity\n",
    "for res in [0.3, 0.5, 0.8, 1.0]:\n",
    "    sc.tl.leiden(epithelial, resolution=res, key_added=f'leiden_r{res}')\n",
    "    n = epithelial.obs[f'leiden_r{res}'].nunique()\n",
    "    print(f\"resolution={res} → {n} clusters\")\n",
    "\n",
    "# Pick your favorite (say res=0.5)\n",
    "sc.tl.leiden(epithelial, resolution=0.3, key_added='subcluster')\n",
    "sc.pl.umap(epithelial, color='subcluster', legend_loc='right')"
   ]
  },
  {
   "cell_type": "code",
   "execution_count": null,
   "id": "79",
   "metadata": {},
   "outputs": [],
   "source": [
    "# Calculate marker genes\n",
    "sc.tl.rank_genes_groups(\n",
    "    epithelial, groupby=\"subcluster\", method=\"wilcoxon\", pts=True)\n",
    "sc.pl.rank_genes_groups(epithelial, n_genes=5, sharey=False)"
   ]
  },
  {
   "cell_type": "code",
   "execution_count": null,
   "id": "80",
   "metadata": {},
   "outputs": [],
   "source": [
    "#Extract top 5 genes per group\n",
    "top_genes = [epithelial.uns['rank_genes_groups']['names'][group][:5] for group in epithelial.uns['rank_genes_groups']['names'].dtype.names]\n",
    "\n",
    "# Print the gene names\n",
    "for group, genes in zip(epithelial.uns['rank_genes_groups']['names'].dtype.names, top_genes):\n",
    "    print(f\"Group: {group} → Top Genes: {', '.join(genes)}\")\n"
   ]
  },
  {
   "cell_type": "code",
   "execution_count": null,
   "id": "81",
   "metadata": {},
   "outputs": [],
   "source": [
    "subcluster_annotation = {\n",
    "    \"0\": \"Basal Epithelial\",\n",
    "    \"1\": \"Secretory Epithelial\",\n",
    "    \"2\": \"Proliferative Epithelial\",\n",
    "    \"3\": \"Basal Epithelial\",\n",
    "    \"4\": \"Squamas Differentiated Epithelial\",\n",
    "    \"5\": \"Luminal Epithelial\",\n",
    "    \"6\": \"Immune\",\n",
    "    \"7\": \" Luminal Epithelial cells\"\n",
    "}\n",
    "\n",
    "epithelial.obs[\"epithelial_subtype\"] = epithelial.obs[\"subcluster\"].map(subcluster_annotation)"
   ]
  },
  {
   "cell_type": "code",
   "execution_count": null,
   "id": "82",
   "metadata": {},
   "outputs": [],
   "source": [
    "sc.pl.umap(\n",
    "    epithelial,\n",
    "    color=\"epithelial_subtype\",\n",
    "    legend_loc=\"right margin\", \n",
    "    cmap=\"viridis\"\n",
    ")"
   ]
  },
  {
   "cell_type": "markdown",
   "id": "83",
   "metadata": {
    "jp-MarkdownHeadingCollapsed": true
   },
   "source": [
    "### Automatic annotation"
   ]
  },
  {
   "cell_type": "code",
   "execution_count": null,
   "id": "84",
   "metadata": {},
   "outputs": [],
   "source": [
    "adata_celltypist = adata.copy()  # make a copy of our adata\n",
    "adata_celltypist.X = adata.layers[\"raw_data\"]  # set adata.X to raw counts\n",
    "sc.pp.normalize_total(adata_celltypist, target_sum=10**4)  # normalize to 10,000 counts per cell\n",
    "sc.pp.log1p(adata_celltypist)  # log-transform\n",
    "sc.pp.pca(adata_celltypist, n_comps=50) # at least 50 pca for celltypist\n",
    "sc.pp.neighbors(adata_celltypist, n_neighbors=10, n_pcs=50)\n",
    "# make .X dense instead of sparse, for compatibility with celltypist:\n",
    "adata_celltypist.X = adata_celltypist.X.toarray()\n",
    "import scanpy as sc\n",
    "\n",
    "sc.pp.pca(adata_celltypist, n_comps=50)\n",
    "sc.pp.neighbors(adata_celltypist, n_neighbors=10, n_pcs=50)\n"
   ]
  },
  {
   "cell_type": "code",
   "execution_count": null,
   "id": "85",
   "metadata": {},
   "outputs": [],
   "source": [
    "models.download_models(\n",
    "    force_update=True, model=[\"Immune_All_Low.pkl\", \"Immune_All_High.pkl\", \"Adult_Human_Skin.pkl\", \n",
    "                              \"Adult_Human_Vascular.pkl\", \"Adult_Human_PancreaticIslet.pkl\"]\n",
    ")"
   ]
  },
  {
   "cell_type": "code",
   "execution_count": null,
   "id": "86",
   "metadata": {},
   "outputs": [],
   "source": [
    "model_immune_low = models.Model.load(model=\"Immune_All_Low.pkl\")\n",
    "model_immune_high = models.Model.load(model=\"Immune_All_High.pkl\")\n",
    "model_human_skin = models.Model.load(model=\"Adult_Human_Skin.pkl\")\n",
    "model_human_vascular = models.Model.load(model=\"Adult_Human_Vascular.pkl\")\n",
    "model_human_pancreas = models.Model.load(model=\"Adult_Human_PancreaticIslet.pkl\")"
   ]
  },
  {
   "cell_type": "code",
   "execution_count": null,
   "id": "87",
   "metadata": {},
   "outputs": [],
   "source": [
    "model_human_vascular.cell_types"
   ]
  },
  {
   "cell_type": "code",
   "execution_count": null,
   "id": "88",
   "metadata": {},
   "outputs": [],
   "source": [
    "predictions_immune_high = celltypist.annotate(\n",
    "    adata_celltypist, model=model_immune_high, majority_voting=True\n",
    ") # run the model\n",
    "\n",
    "predictions_immune_high_adata = predictions_immune_high.to_adata() # transform the predictions to adata to get the full output\n",
    "#copy the results to our original AnnData object\n",
    "adata.obs[\"celltypist_cell_label_immune_high\"] = predictions_immune_high_adata.obs.loc[\n",
    "    adata.obs.index, \"majority_voting\"\n",
    "]\n",
    "adata.obs[\"celltypist_conf_score_immune_high\"] = predictions_immune_high_adata.obs.loc[\n",
    "    adata.obs.index, \"conf_score\"\n",
    "]"
   ]
  },
  {
   "cell_type": "code",
   "execution_count": null,
   "id": "89",
   "metadata": {},
   "outputs": [],
   "source": [
    "predictions_immune_low = celltypist.annotate(\n",
    "    adata_celltypist, model=model_immune_low, majority_voting=True\n",
    ")\n",
    "predictions_immune_low_adata = predictions_immune_low.to_adata()\n",
    "adata.obs[\"celltypist_cell_label_immune_low\"] = predictions_immune_low_adata.obs.loc[\n",
    "    adata.obs.index, \"majority_voting\"\n",
    "]\n",
    "adata.obs[\"celltypist_conf_score_immune_low\"] = predictions_immune_low_adata.obs.loc[\n",
    "    adata.obs.index, \"conf_score\"\n",
    "]"
   ]
  },
  {
   "cell_type": "code",
   "execution_count": null,
   "id": "90",
   "metadata": {},
   "outputs": [],
   "source": [
    "predictions_fibroblasts = celltypist.annotate(\n",
    "    adata_celltypist, model=model_human_skin, majority_voting=True\n",
    ")\n",
    "predictions_fibroblasts_adata = predictions_fibroblasts.to_adata()\n",
    "adata.obs[\"celltypist_cell_label_fibroblasts\"] = predictions_fibroblasts_adata.obs.loc[\n",
    "    adata.obs.index, \"majority_voting\"\n",
    "]\n",
    "adata.obs[\"celltypist_conf_score_fibroblasts\"] = predictions_fibroblasts_adata.obs.loc[\n",
    "    adata.obs.index, \"conf_score\"\n",
    "]"
   ]
  },
  {
   "cell_type": "code",
   "execution_count": null,
   "id": "91",
   "metadata": {},
   "outputs": [],
   "source": [
    "predictions_endothelial = celltypist.annotate(\n",
    "    adata_celltypist, model=model_human_vascular, majority_voting=True\n",
    ")\n",
    "predictions_endothelial_adata = predictions_endothelial.to_adata()\n",
    "adata.obs[\"celltypist_cell_label_endothelial\"] = predictions_endothelial_adata.obs.loc[\n",
    "    adata.obs.index, \"majority_voting\"\n",
    "]\n",
    "adata.obs[\"celltypist_conf_score_endothelial\"] = predictions_endothelial_adata.obs.loc[\n",
    "    adata.obs.index, \"conf_score\"\n",
    "]"
   ]
  },
  {
   "cell_type": "code",
   "execution_count": null,
   "id": "92",
   "metadata": {},
   "outputs": [],
   "source": [
    "predictions_epithelial = celltypist.annotate(\n",
    "    adata_celltypist, model=model_human_pancreas, majority_voting=True\n",
    ")\n",
    "predictions_epithelial_adata = predictions_epithelial.to_adata()\n",
    "adata.obs[\"celltypist_cell_label_epithelial\"] = predictions_epithelial_adata.obs.loc[\n",
    "    adata.obs.index, \"majority_voting\"\n",
    "]\n",
    "adata.obs[\"celltypist_conf_score_epithelial\"] = predictions_epithelial_adata.obs.loc[\n",
    "    adata.obs.index, \"conf_score\"\n",
    "]"
   ]
  },
  {
   "cell_type": "code",
   "execution_count": null,
   "id": "93",
   "metadata": {},
   "outputs": [],
   "source": [
    "sc.pl.umap(\n",
    "    adata,\n",
    "    color=[\"celltypist_cell_label_immune_high\", \"celltypist_conf_score_immune_high\"],\n",
    "    frameon=False,\n",
    "    sort_order=False,\n",
    "    wspace=0.5,\n",
    ")"
   ]
  },
  {
   "cell_type": "code",
   "execution_count": null,
   "id": "94",
   "metadata": {},
   "outputs": [],
   "source": [
    "sc.pl.umap(\n",
    "    adata,\n",
    "    color=[\"celltypist_cell_label_immune_low\", \"celltypist_conf_score_immune_low\"],\n",
    "    frameon=False,\n",
    "    sort_order=False,\n",
    "    wspace=0.5,\n",
    ")"
   ]
  },
  {
   "cell_type": "code",
   "execution_count": null,
   "id": "95",
   "metadata": {},
   "outputs": [],
   "source": [
    "sc.pl.umap(\n",
    "    adata,\n",
    "    color=[\"celltypist_cell_label_fibroblasts\", \"celltypist_conf_score_fibroblasts\"],\n",
    "    frameon=False,\n",
    "    sort_order=False,\n",
    "    wspace=0.5,\n",
    ")"
   ]
  },
  {
   "cell_type": "code",
   "execution_count": null,
   "id": "96",
   "metadata": {},
   "outputs": [],
   "source": [
    "sc.pl.umap(\n",
    "    adata,\n",
    "    color=[\"celltypist_cell_label_endothelial\", \"celltypist_conf_score_endothelial\"],\n",
    "    frameon=False,\n",
    "    sort_order=False,\n",
    "    wspace=0.5,\n",
    ")"
   ]
  },
  {
   "cell_type": "code",
   "execution_count": null,
   "id": "97",
   "metadata": {},
   "outputs": [],
   "source": [
    "sc.pl.umap(\n",
    "    adata,\n",
    "    color=[\"celltypist_cell_label_epithelial\", \"celltypist_conf_score_epithelial\"],\n",
    "    frameon=False,\n",
    "    sort_order=False,\n",
    "    wspace=0.5,\n",
    ")"
   ]
  },
  {
   "cell_type": "code",
   "execution_count": null,
   "id": "98",
   "metadata": {},
   "outputs": [],
   "source": [
    "sc.pl.umap(adata, color=[\"celltypist_cell_label_immune_high\", \"celltypist_cell_label_immune_low\",\n",
    "                         \"celltypist_cell_label_fibroblasts\",\"celltypist_cell_label_endothelial\",\n",
    "                         \"celltypist_cell_label_epithelial\"],\n",
    "                         frameon=False)"
   ]
  },
  {
   "cell_type": "code",
   "execution_count": null,
   "id": "99",
   "metadata": {},
   "outputs": [],
   "source": [
    "adata.obs[\"combined_annotation\"] = adata.obs[\n",
    "    [\"celltypist_cell_label_immune_high\", \"celltypist_cell_label_immune_low\",\n",
    "     \"celltypist_cell_label_fibroblasts\", \"celltypist_cell_label_endothelial\",\n",
    "     \"celltypist_cell_label_epithelial\"]\n",
    "].mode(axis=1).iloc[:, 0]  # Select first mode if multiple exist\n"
   ]
  },
  {
   "cell_type": "code",
   "execution_count": null,
   "id": "100",
   "metadata": {},
   "outputs": [],
   "source": [
    "sc.pl.umap(\n",
    "    adata,\n",
    "    color=\"combined_annotation\",\n",
    "    legend_loc=\"right margin\",\n",
    "    cmap=\"viridis\"\n",
    ")"
   ]
  },
  {
   "cell_type": "markdown",
   "id": "101",
   "metadata": {},
   "source": [
    "## Trajectory inference"
   ]
  },
  {
   "cell_type": "markdown",
   "id": "102",
   "metadata": {
    "jp-MarkdownHeadingCollapsed": true
   },
   "source": [
    "### Pre-processing"
   ]
  },
  {
   "cell_type": "code",
   "execution_count": null,
   "id": "103",
   "metadata": {},
   "outputs": [],
   "source": [
    "#subset epithelial cells\n",
    "epithelial_cells = adata[adata.obs['manual_celltype_annotation'] ==\"Epithelial cells\"].copy()\n",
    "sc.pp.filter_genes(epithelial_cells, min_counts=10)"
   ]
  },
  {
   "cell_type": "code",
   "execution_count": null,
   "id": "104",
   "metadata": {},
   "outputs": [],
   "source": [
    "sc.pp.normalize_total(epithelial_cells)\n",
    "sc.pp.log1p(epithelial_cells)\n",
    "sc.pp.highly_variable_genes(epithelial_cells, n_top_genes=2000)\n",
    "sc.pp.scale(epithelial_cells)\n",
    "sc.tl.pca(epithelial_cells, n_comps=50)\n",
    "#sc.tl.umap(epithelial_cells)"
   ]
  },
  {
   "cell_type": "markdown",
   "id": "105",
   "metadata": {
    "jp-MarkdownHeadingCollapsed": true
   },
   "source": [
    "### Diffusion maps"
   ]
  },
  {
   "cell_type": "code",
   "execution_count": null,
   "id": "106",
   "metadata": {},
   "outputs": [],
   "source": [
    "#palantir.utils.run_diffusion_maps(epithelial_cells, n_components=30)\n",
    "palantir.utils.run_diffusion_maps(epithelial, n_components=30)"
   ]
  },
  {
   "cell_type": "code",
   "execution_count": null,
   "id": "107",
   "metadata": {},
   "outputs": [],
   "source": [
    "#palantir.utils.determine_multiscale_space(epithelial_cells)\n",
    "palantir.utils.determine_multiscale_space(epithelial)"
   ]
  },
  {
   "cell_type": "markdown",
   "id": "108",
   "metadata": {
    "jp-MarkdownHeadingCollapsed": true
   },
   "source": [
    "### Selecting early state gene"
   ]
  },
  {
   "cell_type": "code",
   "execution_count": null,
   "id": "109",
   "metadata": {},
   "outputs": [],
   "source": [
    "early_genes = ['KRT5', 'KLF5', 'TP63']\n",
    "tumor_genes = ['MKI67', 'TOP2A', 'CDKN2A', 'S100A7']"
   ]
  },
  {
   "cell_type": "code",
   "execution_count": null,
   "id": "110",
   "metadata": {},
   "outputs": [],
   "source": [
    "#sc.tl.score_genes(epithelial_cells, gene_list=early_genes, score_name='early_score')\n",
    "#sc.tl.score_genes(epithelial_cells, gene_list=tumor_genes, score_name='tumor_score')\n",
    "#sc.pl.umap(epithelial_cells, color=['early_score', 'tumor_score'], cmap='viridis')\n",
    "\n",
    "sc.tl.score_genes(epithelial, gene_list=early_genes, score_name='early_score')\n",
    "sc.tl.score_genes(epithelial, gene_list=tumor_genes, score_name='tumor_score')\n",
    "sc.pl.umap(epithelial, color=['early_score', 'tumor_score'], cmap='viridis')"
   ]
  },
  {
   "cell_type": "code",
   "execution_count": null,
   "id": "111",
   "metadata": {},
   "outputs": [],
   "source": [
    "# Find cells with high early score and low tumor score\n",
    "#list = epithelial_cells.obs[['early_score', 'tumor_score']]\n",
    "#candidate_cells = list[(list['early_score'] > 0.5) & (list['tumor_score'] < 0.1)]\n",
    "# Pick the cell with highest early score\n",
    "#start_cell = candidate_cells['early_score'].idxmax()\n",
    "#print(\"Start cell ID:\",start_cell)\n",
    "\n",
    "\n",
    "\n",
    "# Find cells with high early score and low tumor score\n",
    "list = epithelial.obs[['early_score', 'tumor_score']]\n",
    "candidate_cells = list[(list['early_score'] > 0.5) & (list['tumor_score'] < 0.1)]\n",
    "# Pick the cell with highest early score\n",
    "start_cell = candidate_cells['early_score'].idxmax()\n",
    "print(\"Start cell ID:\",start_cell)"
   ]
  },
  {
   "cell_type": "markdown",
   "id": "112",
   "metadata": {
    "jp-MarkdownHeadingCollapsed": true
   },
   "source": [
    "### Running plantir"
   ]
  },
  {
   "cell_type": "code",
   "execution_count": null,
   "id": "113",
   "metadata": {},
   "outputs": [],
   "source": [
    "#pr_res = palantir.core.run_palantir(epithelial_cells, start_cell, num_waypoints=500)\n",
    "pr_res = palantir.core.run_palantir(epithelial, start_cell, num_waypoints=500)"
   ]
  },
  {
   "cell_type": "code",
   "execution_count": null,
   "id": "114",
   "metadata": {},
   "outputs": [],
   "source": [
    "#epithelial_cells.obs[\"palantir_pseudotime\"]\n",
    "epithelial.obs[\"palantir_pseudotime\"]"
   ]
  },
  {
   "cell_type": "code",
   "execution_count": null,
   "id": "115",
   "metadata": {},
   "outputs": [],
   "source": [
    "# Get the branch probabilities\n",
    "# As shown below, palantir used the 6 terminally differentiated states\n",
    "#epithelial_cells.obsm[\"palantir_fate_probabilities\"]\n",
    "\n",
    "# Get the branch probabilities\n",
    "# As shown below, palantir used the 6 terminally differentiated states\n",
    "epithelial.obsm[\"palantir_fate_probabilities\"]"
   ]
  },
  {
   "cell_type": "code",
   "execution_count": null,
   "id": "116",
   "metadata": {},
   "outputs": [],
   "source": [
    "# You can rename the different branches:\n",
    "#epithelial_cells.obsm[\"palantir_fate_probabilities\"].columns = [\n",
    "   # \"Branch1\",\n",
    "    #\"Branch2\",\n",
    "  #  \"Branch3\",\n",
    "   # \"Branch4\"]\n",
    "\n",
    "# You can rename the different branches:\n",
    "epithelial.obsm[\"palantir_fate_probabilities\"].columns = [\"Branch1\",\"Branch2\"]"
   ]
  },
  {
   "cell_type": "code",
   "execution_count": null,
   "id": "117",
   "metadata": {},
   "outputs": [],
   "source": [
    "# Get the entropy\n",
    "#epithelial_cells.obs[\"palantir_entropy\"]\n",
    "\n",
    "# Get the entropy\n",
    "epithelial.obs[\"palantir_entropy\"]"
   ]
  },
  {
   "cell_type": "code",
   "execution_count": null,
   "id": "118",
   "metadata": {},
   "outputs": [],
   "source": [
    "palantir.plot.plot_palantir_results(epithelial_cells, s=3)\n",
    "plt.show()"
   ]
  },
  {
   "cell_type": "code",
   "execution_count": null,
   "id": "119",
   "metadata": {},
   "outputs": [],
   "source": [
    "# Visualize branch probability\n",
    "nrow = 2\n",
    "ncol = 3\n",
    "fig = plt.figure(figsize=(8 * ncol, 6 * nrow))\n",
    "for j, item in enumerate(pr_res.branch_probs.columns):\n",
    "    ax = fig.add_subplot(nrow, ncol, j + 1)\n",
    "    im1 = ax.scatter(\n",
    "        epithelial_cells.obsm[\"X_umap\"][:, 0],\n",
    "        epithelial_cells.obsm[\"X_umap\"][:, 1],\n",
    "        c=epithelial_cells.obsm[\"palantir_fate_probabilities\"][item],\n",
    "        s=2,\n",
    "        cmap=\"plasma\",\n",
    "    )\n",
    "    ax.axis(\"off\")\n",
    "    ax.set_title(\"Branch probability - \" + str(j + 1), fontsize=16)\n",
    "    fig.colorbar(im1)"
   ]
  },
  {
   "cell_type": "code",
   "execution_count": null,
   "id": "120",
   "metadata": {},
   "outputs": [],
   "source": [
    "example_cells = [\"ATCGGCGTCCATAAGC-1\", \"CCCGAAGTCGACGAGA-1\", \"CTCTGGTGTAAGATAC-1\", \"TCACGGGTCATTGCTT-1\"]\n",
    "fig = plt.figure(figsize=(8 * 3, 6 * 2))  # Wider for 3 columns\n",
    "\n",
    "# Subplot 1: UMAP with highlighted cells (spans 2 columns)\n",
    "ax = fig.add_subplot(2, 3, (1, 2))\n",
    "cell_id = [epithelial_cells.obs_names.get_loc(k) for k in example_cells]\n",
    "ax.scatter(epithelial_cells.obsm[\"X_umap\"][:, 0], epithelial_cells.obsm[\"X_umap\"][:, 1], s=1, c='lightgray', alpha=0.5)\n",
    "\n",
    "# Highlight example cells with different colors\n",
    "colors = ['r', 'g', 'b', 'orange']\n",
    "for i, (cell, color) in enumerate(zip(example_cells, colors)):\n",
    "    ax.scatter(\n",
    "        epithelial_cells.obsm[\"X_umap\"][cell_id[i], 0],\n",
    "        epithelial_cells.obsm[\"X_umap\"][cell_id[i], 1],\n",
    "        s=100,\n",
    "        c=color,\n",
    "        label=cell,\n",
    "    )\n",
    "ax.legend()\n",
    "ax.axis(\"off\")\n",
    "ax.set_title(\"UMAP with example cells\")\n",
    "\n",
    "# Individual fate probability plots for each cell\n",
    "subplot_positions = [3, 4, 5, 6]  # Top right, then bottom row\n",
    "for i, cell in enumerate(example_cells):\n",
    "    ax = fig.add_subplot(2, 3, subplot_positions[i])\n",
    "    ax.bar(\n",
    "        epithelial_cells.obsm[\"palantir_fate_probabilities\"].columns,\n",
    "        epithelial_cells.obsm[\"palantir_fate_probabilities\"].loc[cell],\n",
    "    )\n",
    "    ax.set_xlabel(\"Branches\")\n",
    "    ax.set_ylabel(\"Probability\")\n",
    "    ax.set_title(cell)\n",
    "\n",
    "plt.tight_layout()"
   ]
  },
  {
   "cell_type": "markdown",
   "id": "121",
   "metadata": {
    "jp-MarkdownHeadingCollapsed": true
   },
   "source": [
    "### Gene expression trend along branch"
   ]
  },
  {
   "cell_type": "code",
   "execution_count": null,
   "id": "122",
   "metadata": {},
   "outputs": [],
   "source": [
    "imputed_X = palantir.utils.run_magic_imputation(epithelial_cells)"
   ]
  },
  {
   "cell_type": "code",
   "execution_count": null,
   "id": "123",
   "metadata": {},
   "outputs": [],
   "source": [
    "masks = palantir.presults.select_branch_cells(epithelial_cells, eps=0)"
   ]
  },
  {
   "cell_type": "code",
   "execution_count": null,
   "id": "124",
   "metadata": {},
   "outputs": [],
   "source": [
    "epithelial_cells.obsm[\"branch_masks\"]"
   ]
  },
  {
   "cell_type": "code",
   "execution_count": null,
   "id": "125",
   "metadata": {},
   "outputs": [],
   "source": [
    "palantir.plot.plot_branch_selection(epithelial_cells)\n",
    "plt.show()"
   ]
  },
  {
   "cell_type": "code",
   "execution_count": null,
   "id": "126",
   "metadata": {},
   "outputs": [],
   "source": [
    "gene_trends = palantir.presults.compute_gene_trends(epithelial_cells)"
   ]
  },
  {
   "cell_type": "code",
   "execution_count": null,
   "id": "127",
   "metadata": {},
   "outputs": [],
   "source": [
    "palantir.plot.plot_gene_trend_heatmaps(epithelial_cells, genes)\n",
    "plt.show()"
   ]
  },
  {
   "cell_type": "code",
   "execution_count": null,
   "id": "128",
   "metadata": {},
   "outputs": [],
   "source": [
    "palantir.plot.plot_trajectories(epithelial_cells, pseudotime_interval=(0, .9))\n",
    "# When using cell_color=\"branch_selection\" be aware of the overlap between branches:\n",
    "palantir.plot.plot_trajectories(epithelial_cells, cell_color = \"branch_selection\", pseudotime_interval=(0, .9))\n",
    "plt.show()"
   ]
  },
  {
   "cell_type": "markdown",
   "id": "129",
   "metadata": {},
   "source": [
    "### Cell Rank"
   ]
  },
  {
   "cell_type": "code",
   "execution_count": null,
   "id": "130",
   "metadata": {},
   "outputs": [],
   "source": [
    "import cellrank as cr"
   ]
  },
  {
   "cell_type": "code",
   "execution_count": null,
   "id": "131",
   "metadata": {},
   "outputs": [],
   "source": [
    "from cellrank.kernels import PseudotimeKernel\n",
    "epithelial.obsp['neighbors_connectivities'] = epithelial.obsp['neighbors_30_connectivities']\n",
    "pk = PseudotimeKernel(epithelial, time_key=\"palantir_pseudotime\")"
   ]
  },
  {
   "cell_type": "code",
   "execution_count": null,
   "id": "132",
   "metadata": {},
   "outputs": [],
   "source": [
    "pk"
   ]
  },
  {
   "cell_type": "code",
   "execution_count": null,
   "id": "133",
   "metadata": {},
   "outputs": [],
   "source": [
    "pk.compute_transition_matrix()"
   ]
  },
  {
   "cell_type": "code",
   "execution_count": null,
   "id": "134",
   "metadata": {},
   "outputs": [],
   "source": [
    "pk.plot_random_walks(\n",
    "    seed=0,\n",
    "    n_sims=100,\n",
    "    start_ixs={\"leiden_r0.5\": \"1\"},  # Replace \"0\" with the desired cluster label for your analysis.\n",
    "    basis=\"umap\",                   # Use \"umap\" or \"tsne\" depending on what you generated.\n",
    "    legend_loc=\"right\",\n",
    "    dpi=150,\n",
    ")"
   ]
  },
  {
   "cell_type": "code",
   "execution_count": null,
   "id": "135",
   "metadata": {},
   "outputs": [],
   "source": [
    "from cellrank.kernels import ConnectivityKernel\n",
    "\n",
    "ck = ConnectivityKernel(epithelial).compute_transition_matrix()"
   ]
  },
  {
   "cell_type": "code",
   "execution_count": null,
   "id": "136",
   "metadata": {},
   "outputs": [],
   "source": [
    "ck"
   ]
  },
  {
   "cell_type": "code",
   "execution_count": null,
   "id": "137",
   "metadata": {},
   "outputs": [],
   "source": [
    "combined_kernel = 0.8 * pk + 0.2 * ck\n",
    "combined_kernel"
   ]
  },
  {
   "cell_type": "code",
   "execution_count": null,
   "id": "138",
   "metadata": {},
   "outputs": [],
   "source": [
    "from cellrank.estimators import GPCCA\n",
    "\n",
    "g = GPCCA(pk)\n",
    "print(g)"
   ]
  },
  {
   "cell_type": "code",
   "execution_count": null,
   "id": "139",
   "metadata": {},
   "outputs": [],
   "source": [
    "g.fit(n_states=10, cluster_key=\"subcluster\")\n",
    "g.plot_macrostates(which=\"all\")"
   ]
  },
  {
   "cell_type": "code",
   "execution_count": null,
   "id": "140",
   "metadata": {},
   "outputs": [],
   "source": [
    "g.predict_terminal_states(method=\"top_n\", n_states=6)\n",
    "g.plot_macrostates(which=\"terminal\")"
   ]
  },
  {
   "cell_type": "code",
   "execution_count": null,
   "id": "141",
   "metadata": {},
   "outputs": [],
   "source": [
    "g.compute_fate_probabilities()\n",
    "g.plot_fate_probabilities(legend_loc=\"right\")"
   ]
  },
  {
   "cell_type": "code",
   "execution_count": null,
   "id": "142",
   "metadata": {},
   "outputs": [],
   "source": [
    "cr.pl.circular_projection(epithelial, keys=\"subcluster\", legend_loc=\"right\")"
   ]
  },
  {
   "cell_type": "code",
   "execution_count": null,
   "id": "143",
   "metadata": {},
   "outputs": [],
   "source": [
    "mono_drivers = g.compute_lineage_drivers(lineages=\"1_2\")\n",
    "mono_drivers.head(10)"
   ]
  }
 ],
 "metadata": {
  "kernelspec": {
   "display_name": "scrnaseq",
   "language": "python",
   "name": "scrnaseq"
  },
  "language_info": {
   "codemirror_mode": {
    "name": "ipython",
    "version": 3
   },
   "file_extension": ".py",
   "mimetype": "text/x-python",
   "name": "python",
   "nbconvert_exporter": "python",
   "pygments_lexer": "ipython3",
   "version": "3.13.2"
  }
 },
 "nbformat": 4,
 "nbformat_minor": 5
}
